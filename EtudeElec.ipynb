{
 "cells": [
  {
   "cell_type": "code",
   "execution_count": 32,
   "id": "34ed8856",
   "metadata": {},
   "outputs": [],
   "source": [
    "import pandas as pd\n",
    "import matplotlib.pyplot as plt\n",
    "plt.rcParams['figure.figsize'] = [13, 8]\n",
    "import datetime as dt\n",
    "from datetime import timedelta\n",
    "import seaborn as sb"
   ]
  },
  {
   "cell_type": "code",
   "execution_count": 33,
   "id": "21f1624d",
   "metadata": {},
   "outputs": [],
   "source": [
    "df_excence=pd.read_excel(\"Data/excence.xlsx\")\n",
    "df_elec=pd.read_excel(\"Data/elec.xlsx\")"
   ]
  },
  {
   "cell_type": "code",
   "execution_count": 34,
   "id": "7d370e7a",
   "metadata": {},
   "outputs": [],
   "source": [
    "df_elec_excence=pd.merge(df_elec, df_excence, left_on=\"LIEU\", right_on=\"Name\", how=\"inner\")\n",
    "df_elec_excence[\"Date première saisie\"] = pd.to_datetime(df_elec_excence[\"Date première saisie\"])\n",
    "df_elec_excence[\"Date dernière saisie\"] = pd.to_datetime(df_elec_excence[\"Date dernière saisie\"])\n",
    "df_elec_excence[\"Date première saisie excense\"] = pd.to_datetime(df_elec_excence[\"Value\"])\n",
    "df_elec_excence[\"Date première saisie excense\"] = df_elec_excence[\"Date première saisie excense\"] + pd.Timedelta(hours=2)\n",
    "df_elec_excence[\"Date première saisie excense\"] =df_elec_excence[\"Date première saisie excense\"] .apply(lambda x: x.replace(tzinfo=None))\n",
    "df_elec_excence=df_elec_excence.drop([\"Value\",\"GMT_TIME\", \"Name\"], axis=1)"
   ]
  },
  {
   "cell_type": "code",
   "execution_count": 35,
   "id": "67e2beaa",
   "metadata": {},
   "outputs": [],
   "source": [
    "df_elec_excence[\"delta_saisie\"]=df_elec_excence[\"Date première saisie excense\"]-df_elec_excence[\"Date première saisie\"]\n",
    "df_elec_excence[\"delta en minutes\"] =df_elec_excence[\"delta_saisie\"].dt.total_seconds()/60"
   ]
  },
  {
   "cell_type": "code",
   "execution_count": 36,
   "id": "a7450db9",
   "metadata": {},
   "outputs": [
    {
     "data": {
      "text/html": [
       "<div>\n",
       "<style scoped>\n",
       "    .dataframe tbody tr th:only-of-type {\n",
       "        vertical-align: middle;\n",
       "    }\n",
       "\n",
       "    .dataframe tbody tr th {\n",
       "        vertical-align: top;\n",
       "    }\n",
       "\n",
       "    .dataframe thead th {\n",
       "        text-align: right;\n",
       "    }\n",
       "</style>\n",
       "<table border=\"1\" class=\"dataframe\">\n",
       "  <thead>\n",
       "    <tr style=\"text-align: right;\">\n",
       "      <th></th>\n",
       "      <th>LIEU</th>\n",
       "      <th>Date première saisie</th>\n",
       "      <th>Date dernière saisie</th>\n",
       "      <th>Source</th>\n",
       "      <th>Date première saisie excense</th>\n",
       "      <th>delta_saisie</th>\n",
       "      <th>delta en minutes</th>\n",
       "    </tr>\n",
       "  </thead>\n",
       "  <tbody>\n",
       "    <tr>\n",
       "      <th>0</th>\n",
       "      <td>974_03</td>\n",
       "      <td>2022-06-19 18:44:22</td>\n",
       "      <td>2022-06-19 18:44:22</td>\n",
       "      <td>ELECPLUS</td>\n",
       "      <td>2022-06-19 20:11:49</td>\n",
       "      <td>0 days 01:27:27</td>\n",
       "      <td>87.450000</td>\n",
       "    </tr>\n",
       "    <tr>\n",
       "      <th>1</th>\n",
       "      <td>974_07</td>\n",
       "      <td>2022-06-19 19:14:47</td>\n",
       "      <td>2022-06-20 03:42:21</td>\n",
       "      <td>MINISTERE INTERIEUR</td>\n",
       "      <td>2022-06-19 20:11:49</td>\n",
       "      <td>0 days 00:57:02</td>\n",
       "      <td>57.033333</td>\n",
       "    </tr>\n",
       "    <tr>\n",
       "      <th>2</th>\n",
       "      <td>974_02</td>\n",
       "      <td>2022-06-19 19:15:59</td>\n",
       "      <td>2022-06-19 19:15:59</td>\n",
       "      <td>ELECPLUS</td>\n",
       "      <td>2022-06-19 20:11:49</td>\n",
       "      <td>0 days 00:55:50</td>\n",
       "      <td>55.833333</td>\n",
       "    </tr>\n",
       "    <tr>\n",
       "      <th>3</th>\n",
       "      <td>974_05</td>\n",
       "      <td>2022-06-19 19:16:51</td>\n",
       "      <td>2022-06-19 19:16:51</td>\n",
       "      <td>ELECPLUS</td>\n",
       "      <td>2022-06-19 20:11:49</td>\n",
       "      <td>0 days 00:54:58</td>\n",
       "      <td>54.966667</td>\n",
       "    </tr>\n",
       "    <tr>\n",
       "      <th>4</th>\n",
       "      <td>019_01</td>\n",
       "      <td>2022-06-19 19:41:27</td>\n",
       "      <td>2022-06-19 19:41:27</td>\n",
       "      <td>ELECPLUS</td>\n",
       "      <td>2022-06-19 20:05:49</td>\n",
       "      <td>0 days 00:24:22</td>\n",
       "      <td>24.366667</td>\n",
       "    </tr>\n",
       "    <tr>\n",
       "      <th>...</th>\n",
       "      <td>...</td>\n",
       "      <td>...</td>\n",
       "      <td>...</td>\n",
       "      <td>...</td>\n",
       "      <td>...</td>\n",
       "      <td>...</td>\n",
       "      <td>...</td>\n",
       "    </tr>\n",
       "    <tr>\n",
       "      <th>549</th>\n",
       "      <td>099_10</td>\n",
       "      <td>2022-06-20 00:28:13</td>\n",
       "      <td>2022-06-20 00:28:13</td>\n",
       "      <td>MINISTERE INTERIEUR</td>\n",
       "      <td>2022-06-20 00:54:01</td>\n",
       "      <td>0 days 00:25:48</td>\n",
       "      <td>25.800000</td>\n",
       "    </tr>\n",
       "    <tr>\n",
       "      <th>550</th>\n",
       "      <td>099_06</td>\n",
       "      <td>2022-06-20 00:29:11</td>\n",
       "      <td>2022-06-20 00:29:11</td>\n",
       "      <td>MINISTERE INTERIEUR</td>\n",
       "      <td>2022-06-20 00:39:54</td>\n",
       "      <td>0 days 00:10:43</td>\n",
       "      <td>10.716667</td>\n",
       "    </tr>\n",
       "    <tr>\n",
       "      <th>551</th>\n",
       "      <td>099_07</td>\n",
       "      <td>2022-06-20 00:30:49</td>\n",
       "      <td>2022-06-20 00:30:49</td>\n",
       "      <td>MINISTERE INTERIEUR</td>\n",
       "      <td>2022-06-20 00:39:54</td>\n",
       "      <td>0 days 00:09:05</td>\n",
       "      <td>9.083333</td>\n",
       "    </tr>\n",
       "    <tr>\n",
       "      <th>552</th>\n",
       "      <td>099_09</td>\n",
       "      <td>2022-06-20 00:31:20</td>\n",
       "      <td>2022-06-20 00:31:20</td>\n",
       "      <td>MINISTERE INTERIEUR</td>\n",
       "      <td>2022-06-20 00:54:01</td>\n",
       "      <td>0 days 00:22:41</td>\n",
       "      <td>22.683333</td>\n",
       "    </tr>\n",
       "    <tr>\n",
       "      <th>553</th>\n",
       "      <td>099_08</td>\n",
       "      <td>2022-06-20 00:31:53</td>\n",
       "      <td>2022-06-20 00:32:28</td>\n",
       "      <td>MINISTERE INTERIEUR</td>\n",
       "      <td>2022-06-20 00:39:54</td>\n",
       "      <td>0 days 00:08:01</td>\n",
       "      <td>8.016667</td>\n",
       "    </tr>\n",
       "  </tbody>\n",
       "</table>\n",
       "<p>554 rows × 7 columns</p>\n",
       "</div>"
      ],
      "text/plain": [
       "       LIEU Date première saisie Date dernière saisie               Source  \\\n",
       "0    974_03  2022-06-19 18:44:22  2022-06-19 18:44:22             ELECPLUS   \n",
       "1    974_07  2022-06-19 19:14:47  2022-06-20 03:42:21  MINISTERE INTERIEUR   \n",
       "2    974_02  2022-06-19 19:15:59  2022-06-19 19:15:59             ELECPLUS   \n",
       "3    974_05  2022-06-19 19:16:51  2022-06-19 19:16:51             ELECPLUS   \n",
       "4    019_01  2022-06-19 19:41:27  2022-06-19 19:41:27             ELECPLUS   \n",
       "..      ...                  ...                  ...                  ...   \n",
       "549  099_10  2022-06-20 00:28:13  2022-06-20 00:28:13  MINISTERE INTERIEUR   \n",
       "550  099_06  2022-06-20 00:29:11  2022-06-20 00:29:11  MINISTERE INTERIEUR   \n",
       "551  099_07  2022-06-20 00:30:49  2022-06-20 00:30:49  MINISTERE INTERIEUR   \n",
       "552  099_09  2022-06-20 00:31:20  2022-06-20 00:31:20  MINISTERE INTERIEUR   \n",
       "553  099_08  2022-06-20 00:31:53  2022-06-20 00:32:28  MINISTERE INTERIEUR   \n",
       "\n",
       "    Date première saisie excense    delta_saisie  delta en minutes  \n",
       "0            2022-06-19 20:11:49 0 days 01:27:27         87.450000  \n",
       "1            2022-06-19 20:11:49 0 days 00:57:02         57.033333  \n",
       "2            2022-06-19 20:11:49 0 days 00:55:50         55.833333  \n",
       "3            2022-06-19 20:11:49 0 days 00:54:58         54.966667  \n",
       "4            2022-06-19 20:05:49 0 days 00:24:22         24.366667  \n",
       "..                           ...             ...               ...  \n",
       "549          2022-06-20 00:54:01 0 days 00:25:48         25.800000  \n",
       "550          2022-06-20 00:39:54 0 days 00:10:43         10.716667  \n",
       "551          2022-06-20 00:39:54 0 days 00:09:05          9.083333  \n",
       "552          2022-06-20 00:54:01 0 days 00:22:41         22.683333  \n",
       "553          2022-06-20 00:39:54 0 days 00:08:01          8.016667  \n",
       "\n",
       "[554 rows x 7 columns]"
      ]
     },
     "execution_count": 36,
     "metadata": {},
     "output_type": "execute_result"
    }
   ],
   "source": [
    "df_elec_excence"
   ]
  },
  {
   "cell_type": "code",
   "execution_count": 37,
   "id": "64fa7d2b",
   "metadata": {},
   "outputs": [
    {
     "name": "stderr",
     "output_type": "stream",
     "text": [
      "No artists with labels found to put in legend.  Note that artists whose label start with an underscore are ignored when legend() is called with no argument.\n"
     ]
    },
    {
     "data": {
      "text/html": [
       "<div>\n",
       "<style scoped>\n",
       "    .dataframe tbody tr th:only-of-type {\n",
       "        vertical-align: middle;\n",
       "    }\n",
       "\n",
       "    .dataframe tbody tr th {\n",
       "        vertical-align: top;\n",
       "    }\n",
       "\n",
       "    .dataframe thead th {\n",
       "        text-align: right;\n",
       "    }\n",
       "</style>\n",
       "<table border=\"1\" class=\"dataframe\">\n",
       "  <thead>\n",
       "    <tr style=\"text-align: right;\">\n",
       "      <th></th>\n",
       "      <th>Source</th>\n",
       "      <th>LIEU</th>\n",
       "      <th>Date première saisie</th>\n",
       "      <th>Date dernière saisie</th>\n",
       "      <th>Date première saisie excense</th>\n",
       "      <th>delta_saisie</th>\n",
       "      <th>delta en minutes</th>\n",
       "    </tr>\n",
       "  </thead>\n",
       "  <tbody>\n",
       "    <tr>\n",
       "      <th>0</th>\n",
       "      <td>ELECPLUS</td>\n",
       "      <td>535</td>\n",
       "      <td>535</td>\n",
       "      <td>535</td>\n",
       "      <td>535</td>\n",
       "      <td>535</td>\n",
       "      <td>535</td>\n",
       "    </tr>\n",
       "    <tr>\n",
       "      <th>1</th>\n",
       "      <td>MINISTERE INTERIEUR</td>\n",
       "      <td>19</td>\n",
       "      <td>19</td>\n",
       "      <td>19</td>\n",
       "      <td>19</td>\n",
       "      <td>19</td>\n",
       "      <td>19</td>\n",
       "    </tr>\n",
       "  </tbody>\n",
       "</table>\n",
       "</div>"
      ],
      "text/plain": [
       "                Source  LIEU  Date première saisie  Date dernière saisie  \\\n",
       "0             ELECPLUS   535                   535                   535   \n",
       "1  MINISTERE INTERIEUR    19                    19                    19   \n",
       "\n",
       "   Date première saisie excense  delta_saisie  delta en minutes  \n",
       "0                           535           535               535  \n",
       "1                            19            19                19  "
      ]
     },
     "execution_count": 37,
     "metadata": {},
     "output_type": "execute_result"
    },
    {
     "data": {
      "image/png": "[encoded data removed]",
      "text/plain": [
       "<Figure size 936x576 with 1 Axes>"
      ]
     },
     "metadata": {
      "needs_background": "light"
     },
     "output_type": "display_data"
    }
   ],
   "source": [
    "fig, ax =plt.subplots()\n",
    "df_source=df_elec_excence.groupby(\"Source\").count().reset_index()\n",
    "ax.bar(df_source[\"Source\"], df_source[\"LIEU\"],color=[\"blue\", \"purple\"], edgecolor=\"k\")\n",
    "ax.set_xlabel(\"Source\")\n",
    "ax.set_ylabel(\"Nb de circo\")\n",
    "ax.legend();\n",
    "df_source"
   ]
  },
  {
   "cell_type": "code",
   "execution_count": 38,
   "id": "0500251d",
   "metadata": {},
   "outputs": [
    {
     "data": {
      "text/html": [
       "<div>\n",
       "<style scoped>\n",
       "    .dataframe tbody tr th:only-of-type {\n",
       "        vertical-align: middle;\n",
       "    }\n",
       "\n",
       "    .dataframe tbody tr th {\n",
       "        vertical-align: top;\n",
       "    }\n",
       "\n",
       "    .dataframe thead th {\n",
       "        text-align: right;\n",
       "    }\n",
       "</style>\n",
       "<table border=\"1\" class=\"dataframe\">\n",
       "  <thead>\n",
       "    <tr style=\"text-align: right;\">\n",
       "      <th></th>\n",
       "      <th>delta_saisie</th>\n",
       "      <th>delta en minutes</th>\n",
       "    </tr>\n",
       "  </thead>\n",
       "  <tbody>\n",
       "    <tr>\n",
       "      <th>count</th>\n",
       "      <td>554</td>\n",
       "      <td>554.000000</td>\n",
       "    </tr>\n",
       "    <tr>\n",
       "      <th>mean</th>\n",
       "      <td>0 days 00:19:12.122743682</td>\n",
       "      <td>19.202046</td>\n",
       "    </tr>\n",
       "    <tr>\n",
       "      <th>std</th>\n",
       "      <td>0 days 00:28:26.066331795</td>\n",
       "      <td>28.434439</td>\n",
       "    </tr>\n",
       "    <tr>\n",
       "      <th>min</th>\n",
       "      <td>-1 days +23:19:57</td>\n",
       "      <td>-40.050000</td>\n",
       "    </tr>\n",
       "    <tr>\n",
       "      <th>25%</th>\n",
       "      <td>0 days 00:01:48</td>\n",
       "      <td>1.800000</td>\n",
       "    </tr>\n",
       "    <tr>\n",
       "      <th>50%</th>\n",
       "      <td>0 days 00:11:40.500000</td>\n",
       "      <td>11.675000</td>\n",
       "    </tr>\n",
       "    <tr>\n",
       "      <th>75%</th>\n",
       "      <td>0 days 00:27:26.500000</td>\n",
       "      <td>27.441667</td>\n",
       "    </tr>\n",
       "    <tr>\n",
       "      <th>max</th>\n",
       "      <td>0 days 02:52:44</td>\n",
       "      <td>172.733333</td>\n",
       "    </tr>\n",
       "  </tbody>\n",
       "</table>\n",
       "</div>"
      ],
      "text/plain": [
       "                    delta_saisie  delta en minutes\n",
       "count                        554        554.000000\n",
       "mean   0 days 00:19:12.122743682         19.202046\n",
       "std    0 days 00:28:26.066331795         28.434439\n",
       "min            -1 days +23:19:57        -40.050000\n",
       "25%              0 days 00:01:48          1.800000\n",
       "50%       0 days 00:11:40.500000         11.675000\n",
       "75%       0 days 00:27:26.500000         27.441667\n",
       "max              0 days 02:52:44        172.733333"
      ]
     },
     "execution_count": 38,
     "metadata": {},
     "output_type": "execute_result"
    }
   ],
   "source": [
    "df_elec_excence.describe()"
   ]
  },
  {
   "cell_type": "code",
   "execution_count": 39,
   "id": "dcd6fd3b",
   "metadata": {},
   "outputs": [
    {
     "data": {
      "image/png": "[encoded data removed]",
      "text/plain": [
       "<Figure size 936x576 with 1 Axes>"
      ]
     },
     "metadata": {
      "needs_background": "light"
     },
     "output_type": "display_data"
    }
   ],
   "source": [
    "fig,ax =plt.subplots()\n",
    "ax.hist(df_elec_excence[\"delta en minutes\"], bins=40, label=\"distribution de la différence de saisie (Excense -Elec+) en mm\")\n",
    "ax.legend();"
   ]
  },
  {
   "cell_type": "code",
   "execution_count": 40,
   "id": "265a7fd8",
   "metadata": {},
   "outputs": [
    {
     "data": {
      "image/png": "[encoded data removed]",
      "text/plain": [
       "<Figure size 936x576 with 1 Axes>"
      ]
     },
     "metadata": {
      "needs_background": "light"
     },
     "output_type": "display_data"
    }
   ],
   "source": [
    "df_elec_excence[\"delta en minutes\"].plot.box();"
   ]
  },
  {
   "cell_type": "code",
   "execution_count": 41,
   "id": "d71ac9d2",
   "metadata": {},
   "outputs": [
    {
     "name": "stderr",
     "output_type": "stream",
     "text": [
      "C:\\Users\\thabet.chaaouri\\.virtualenvs\\Elections-2cJJLuao\\lib\\site-packages\\seaborn\\_decorators.py:36: FutureWarning: Pass the following variable as a keyword arg: x. From version 0.12, the only valid positional argument will be `data`, and passing other arguments without an explicit keyword will result in an error or misinterpretation.\n",
      "  warnings.warn(\n"
     ]
    },
    {
     "data": {
      "image/png": "[encoded data removed]",
      "text/plain": [
       "<Figure size 936x576 with 1 Axes>"
      ]
     },
     "metadata": {
      "needs_background": "light"
     },
     "output_type": "display_data"
    }
   ],
   "source": [
    "sb.violinplot(df_elec_excence[\"delta en minutes\"], inner=\"quartile\",bw=0.1);"
   ]
  },
  {
   "cell_type": "code",
   "execution_count": 69,
   "id": "bb76b6eb",
   "metadata": {},
   "outputs": [],
   "source": [
    "first_sais_elec=pd.DataFrame(df_elec_excence.resample('10T', on=\"Date première saisie\").LIEU.count().cumsum()).reset_index()\n",
    "last_sais_elec=pd.DataFrame(df_elec_excence.resample('10T', on=\"Date dernière saisie\").LIEU.count().cumsum()).reset_index()\n",
    "first_sais_exce=pd.DataFrame(df_elec_excence.resample('10T', on=\"Date première saisie excense\").LIEU.count().cumsum()).reset_index()"
   ]
  },
  {
   "cell_type": "code",
   "execution_count": 70,
   "id": "aa0efed3",
   "metadata": {},
   "outputs": [],
   "source": [
    "Compa_firstsaisie=pd.merge(first_sais_elec,first_sais_exce, left_on=\"Date première saisie\", right_on=\"Date première saisie excense\", how=\"outer\" )\n"
   ]
  },
  {
   "cell_type": "code",
   "execution_count": 71,
   "id": "55256673",
   "metadata": {},
   "outputs": [
    {
     "data": {
      "text/html": [
       "<div>\n",
       "<style scoped>\n",
       "    .dataframe tbody tr th:only-of-type {\n",
       "        vertical-align: middle;\n",
       "    }\n",
       "\n",
       "    .dataframe tbody tr th {\n",
       "        vertical-align: top;\n",
       "    }\n",
       "\n",
       "    .dataframe thead th {\n",
       "        text-align: right;\n",
       "    }\n",
       "</style>\n",
       "<table border=\"1\" class=\"dataframe\">\n",
       "  <thead>\n",
       "    <tr style=\"text-align: right;\">\n",
       "      <th></th>\n",
       "      <th>Date première saisie</th>\n",
       "      <th>nb_circo_elec</th>\n",
       "      <th>nb_circo_excense</th>\n",
       "    </tr>\n",
       "  </thead>\n",
       "  <tbody>\n",
       "    <tr>\n",
       "      <th>0</th>\n",
       "      <td>2022-06-19 18:40:00</td>\n",
       "      <td>1.0</td>\n",
       "      <td>NaN</td>\n",
       "    </tr>\n",
       "    <tr>\n",
       "      <th>1</th>\n",
       "      <td>2022-06-19 18:50:00</td>\n",
       "      <td>1.0</td>\n",
       "      <td>NaN</td>\n",
       "    </tr>\n",
       "    <tr>\n",
       "      <th>2</th>\n",
       "      <td>2022-06-19 19:00:00</td>\n",
       "      <td>1.0</td>\n",
       "      <td>NaN</td>\n",
       "    </tr>\n",
       "    <tr>\n",
       "      <th>3</th>\n",
       "      <td>2022-06-19 19:10:00</td>\n",
       "      <td>4.0</td>\n",
       "      <td>NaN</td>\n",
       "    </tr>\n",
       "    <tr>\n",
       "      <th>4</th>\n",
       "      <td>2022-06-19 19:20:00</td>\n",
       "      <td>4.0</td>\n",
       "      <td>NaN</td>\n",
       "    </tr>\n",
       "    <tr>\n",
       "      <th>5</th>\n",
       "      <td>2022-06-19 19:30:00</td>\n",
       "      <td>4.0</td>\n",
       "      <td>NaN</td>\n",
       "    </tr>\n",
       "    <tr>\n",
       "      <th>6</th>\n",
       "      <td>2022-06-19 19:40:00</td>\n",
       "      <td>8.0</td>\n",
       "      <td>NaN</td>\n",
       "    </tr>\n",
       "    <tr>\n",
       "      <th>7</th>\n",
       "      <td>2022-06-19 19:50:00</td>\n",
       "      <td>13.0</td>\n",
       "      <td>NaN</td>\n",
       "    </tr>\n",
       "    <tr>\n",
       "      <th>8</th>\n",
       "      <td>2022-06-19 20:00:00</td>\n",
       "      <td>38.0</td>\n",
       "      <td>11.0</td>\n",
       "    </tr>\n",
       "    <tr>\n",
       "      <th>9</th>\n",
       "      <td>2022-06-19 20:10:00</td>\n",
       "      <td>87.0</td>\n",
       "      <td>49.0</td>\n",
       "    </tr>\n",
       "    <tr>\n",
       "      <th>10</th>\n",
       "      <td>2022-06-19 20:20:00</td>\n",
       "      <td>168.0</td>\n",
       "      <td>86.0</td>\n",
       "    </tr>\n",
       "    <tr>\n",
       "      <th>11</th>\n",
       "      <td>2022-06-19 20:30:00</td>\n",
       "      <td>236.0</td>\n",
       "      <td>145.0</td>\n",
       "    </tr>\n",
       "    <tr>\n",
       "      <th>12</th>\n",
       "      <td>2022-06-19 20:40:00</td>\n",
       "      <td>273.0</td>\n",
       "      <td>195.0</td>\n",
       "    </tr>\n",
       "    <tr>\n",
       "      <th>13</th>\n",
       "      <td>2022-06-19 20:50:00</td>\n",
       "      <td>309.0</td>\n",
       "      <td>224.0</td>\n",
       "    </tr>\n",
       "    <tr>\n",
       "      <th>14</th>\n",
       "      <td>2022-06-19 21:00:00</td>\n",
       "      <td>334.0</td>\n",
       "      <td>273.0</td>\n",
       "    </tr>\n",
       "    <tr>\n",
       "      <th>15</th>\n",
       "      <td>2022-06-19 21:10:00</td>\n",
       "      <td>351.0</td>\n",
       "      <td>301.0</td>\n",
       "    </tr>\n",
       "    <tr>\n",
       "      <th>16</th>\n",
       "      <td>2022-06-19 21:20:00</td>\n",
       "      <td>369.0</td>\n",
       "      <td>321.0</td>\n",
       "    </tr>\n",
       "    <tr>\n",
       "      <th>17</th>\n",
       "      <td>2022-06-19 21:30:00</td>\n",
       "      <td>379.0</td>\n",
       "      <td>345.0</td>\n",
       "    </tr>\n",
       "    <tr>\n",
       "      <th>18</th>\n",
       "      <td>2022-06-19 21:40:00</td>\n",
       "      <td>393.0</td>\n",
       "      <td>355.0</td>\n",
       "    </tr>\n",
       "    <tr>\n",
       "      <th>19</th>\n",
       "      <td>2022-06-19 21:50:00</td>\n",
       "      <td>399.0</td>\n",
       "      <td>370.0</td>\n",
       "    </tr>\n",
       "    <tr>\n",
       "      <th>20</th>\n",
       "      <td>2022-06-19 22:00:00</td>\n",
       "      <td>410.0</td>\n",
       "      <td>382.0</td>\n",
       "    </tr>\n",
       "    <tr>\n",
       "      <th>21</th>\n",
       "      <td>2022-06-19 22:10:00</td>\n",
       "      <td>420.0</td>\n",
       "      <td>391.0</td>\n",
       "    </tr>\n",
       "    <tr>\n",
       "      <th>22</th>\n",
       "      <td>2022-06-19 22:20:00</td>\n",
       "      <td>429.0</td>\n",
       "      <td>400.0</td>\n",
       "    </tr>\n",
       "    <tr>\n",
       "      <th>23</th>\n",
       "      <td>2022-06-19 22:30:00</td>\n",
       "      <td>447.0</td>\n",
       "      <td>425.0</td>\n",
       "    </tr>\n",
       "    <tr>\n",
       "      <th>24</th>\n",
       "      <td>2022-06-19 22:40:00</td>\n",
       "      <td>461.0</td>\n",
       "      <td>431.0</td>\n",
       "    </tr>\n",
       "    <tr>\n",
       "      <th>25</th>\n",
       "      <td>2022-06-19 22:50:00</td>\n",
       "      <td>476.0</td>\n",
       "      <td>438.0</td>\n",
       "    </tr>\n",
       "    <tr>\n",
       "      <th>26</th>\n",
       "      <td>2022-06-19 23:00:00</td>\n",
       "      <td>492.0</td>\n",
       "      <td>455.0</td>\n",
       "    </tr>\n",
       "    <tr>\n",
       "      <th>27</th>\n",
       "      <td>2022-06-19 23:10:00</td>\n",
       "      <td>509.0</td>\n",
       "      <td>460.0</td>\n",
       "    </tr>\n",
       "    <tr>\n",
       "      <th>28</th>\n",
       "      <td>2022-06-19 23:20:00</td>\n",
       "      <td>530.0</td>\n",
       "      <td>490.0</td>\n",
       "    </tr>\n",
       "    <tr>\n",
       "      <th>29</th>\n",
       "      <td>2022-06-19 23:30:00</td>\n",
       "      <td>541.0</td>\n",
       "      <td>517.0</td>\n",
       "    </tr>\n",
       "    <tr>\n",
       "      <th>30</th>\n",
       "      <td>2022-06-19 23:40:00</td>\n",
       "      <td>542.0</td>\n",
       "      <td>526.0</td>\n",
       "    </tr>\n",
       "    <tr>\n",
       "      <th>31</th>\n",
       "      <td>2022-06-19 23:50:00</td>\n",
       "      <td>543.0</td>\n",
       "      <td>539.0</td>\n",
       "    </tr>\n",
       "    <tr>\n",
       "      <th>32</th>\n",
       "      <td>2022-06-20 00:00:00</td>\n",
       "      <td>543.0</td>\n",
       "      <td>539.0</td>\n",
       "    </tr>\n",
       "    <tr>\n",
       "      <th>33</th>\n",
       "      <td>2022-06-20 00:10:00</td>\n",
       "      <td>544.0</td>\n",
       "      <td>539.0</td>\n",
       "    </tr>\n",
       "    <tr>\n",
       "      <th>34</th>\n",
       "      <td>2022-06-20 00:20:00</td>\n",
       "      <td>551.0</td>\n",
       "      <td>539.0</td>\n",
       "    </tr>\n",
       "    <tr>\n",
       "      <th>35</th>\n",
       "      <td>2022-06-20 00:30:00</td>\n",
       "      <td>554.0</td>\n",
       "      <td>547.0</td>\n",
       "    </tr>\n",
       "    <tr>\n",
       "      <th>36</th>\n",
       "      <td>2022-06-20 00:40:00</td>\n",
       "      <td>NaN</td>\n",
       "      <td>547.0</td>\n",
       "    </tr>\n",
       "    <tr>\n",
       "      <th>37</th>\n",
       "      <td>2022-06-20 00:50:00</td>\n",
       "      <td>NaN</td>\n",
       "      <td>554.0</td>\n",
       "    </tr>\n",
       "  </tbody>\n",
       "</table>\n",
       "</div>"
      ],
      "text/plain": [
       "   Date première saisie  nb_circo_elec  nb_circo_excense\n",
       "0   2022-06-19 18:40:00            1.0               NaN\n",
       "1   2022-06-19 18:50:00            1.0               NaN\n",
       "2   2022-06-19 19:00:00            1.0               NaN\n",
       "3   2022-06-19 19:10:00            4.0               NaN\n",
       "4   2022-06-19 19:20:00            4.0               NaN\n",
       "5   2022-06-19 19:30:00            4.0               NaN\n",
       "6   2022-06-19 19:40:00            8.0               NaN\n",
       "7   2022-06-19 19:50:00           13.0               NaN\n",
       "8   2022-06-19 20:00:00           38.0              11.0\n",
       "9   2022-06-19 20:10:00           87.0              49.0\n",
       "10  2022-06-19 20:20:00          168.0              86.0\n",
       "11  2022-06-19 20:30:00          236.0             145.0\n",
       "12  2022-06-19 20:40:00          273.0             195.0\n",
       "13  2022-06-19 20:50:00          309.0             224.0\n",
       "14  2022-06-19 21:00:00          334.0             273.0\n",
       "15  2022-06-19 21:10:00          351.0             301.0\n",
       "16  2022-06-19 21:20:00          369.0             321.0\n",
       "17  2022-06-19 21:30:00          379.0             345.0\n",
       "18  2022-06-19 21:40:00          393.0             355.0\n",
       "19  2022-06-19 21:50:00          399.0             370.0\n",
       "20  2022-06-19 22:00:00          410.0             382.0\n",
       "21  2022-06-19 22:10:00          420.0             391.0\n",
       "22  2022-06-19 22:20:00          429.0             400.0\n",
       "23  2022-06-19 22:30:00          447.0             425.0\n",
       "24  2022-06-19 22:40:00          461.0             431.0\n",
       "25  2022-06-19 22:50:00          476.0             438.0\n",
       "26  2022-06-19 23:00:00          492.0             455.0\n",
       "27  2022-06-19 23:10:00          509.0             460.0\n",
       "28  2022-06-19 23:20:00          530.0             490.0\n",
       "29  2022-06-19 23:30:00          541.0             517.0\n",
       "30  2022-06-19 23:40:00          542.0             526.0\n",
       "31  2022-06-19 23:50:00          543.0             539.0\n",
       "32  2022-06-20 00:00:00          543.0             539.0\n",
       "33  2022-06-20 00:10:00          544.0             539.0\n",
       "34  2022-06-20 00:20:00          551.0             539.0\n",
       "35  2022-06-20 00:30:00          554.0             547.0\n",
       "36  2022-06-20 00:40:00            NaN             547.0\n",
       "37  2022-06-20 00:50:00            NaN             554.0"
      ]
     },
     "execution_count": 71,
     "metadata": {},
     "output_type": "execute_result"
    }
   ],
   "source": [
    "Compa_firstsaisie.iloc[36,0] = dt.datetime(2022,6,20, 0,40,0)\n",
    "Compa_firstsaisie.iloc[37,0] = dt.datetime(2022,6,20, 0,50,0)\n",
    "Compa_firstsaisie=Compa_firstsaisie.drop(\"Date première saisie excense\", axis=1)\n",
    "\n",
    "Compa_firstsaisie.rename({\"LIEU_x\":\"nb_circo_elec\",\n",
    "                          \"LIEU_y\":\"nb_circo_excense\"},axis=1)"
   ]
  },
  {
   "cell_type": "code",
   "execution_count": 48,
   "id": "53a4585d",
   "metadata": {},
   "outputs": [
    {
     "data": {
      "image/png": "[encoded data removed]",
      "text/plain": [
       "<Figure size 936x576 with 1 Axes>"
      ]
     },
     "metadata": {
      "needs_background": "light"
     },
     "output_type": "display_data"
    }
   ],
   "source": [
    "fig, ax =plt.subplots()\n",
    "ax.plot(first_sais_elec[\"Date première saisie\"],first_sais_elec[\"LIEU\"], label=\"Elec+\")\n",
    "ax.plot(first_sais_exce[\"Date première saisie excense\"],first_sais_exce[\"LIEU\"], label=\"Excense\")\n",
    "ax.set_xlabel(\"Temps\")\n",
    "ax.set_ylabel(\"Nb de circo saisie\")\n",
    "ax.legend();"
   ]
  },
  {
   "cell_type": "markdown",
   "id": "f8fc1630",
   "metadata": {},
   "source": [
    "trouver les personnalités suivis/ les circonscriptions test (liste des personnes / associés circo demandés à Minh Tam)"
   ]
  },
  {
   "cell_type": "markdown",
   "id": "c63a4c40",
   "metadata": {},
   "source": [
    "Aggregation par antenne régions (mapping depar circo demandée à Minh Tâm)"
   ]
  },
  {
   "cell_type": "markdown",
   "id": "7a3cd62e",
   "metadata": {},
   "source": [
    "Ecarter les OM pour supprimer les outliers"
   ]
  },
  {
   "cell_type": "markdown",
   "id": "bfee597a",
   "metadata": {},
   "source": [
    "Isoler l'ile de France dans une étude séparée"
   ]
  },
  {
   "cell_type": "code",
   "execution_count": 26,
   "id": "cb4be38a",
   "metadata": {},
   "outputs": [],
   "source": [
    "df_IDF=df_elec_excence.loc[df_elec_excence.LIEU.str.startswith((\"077\",\"078\", \"075\", \"092\", \"091\", \"093\", \"094\", \"095\"))]"
   ]
  },
  {
   "cell_type": "code",
   "execution_count": 27,
   "id": "c8d19f8c",
   "metadata": {},
   "outputs": [
    {
     "data": {
      "image/png": "[encoded data removed]",
      "text/plain": [
       "<Figure size 936x576 with 1 Axes>"
      ]
     },
     "metadata": {
      "needs_background": "light"
     },
     "output_type": "display_data"
    }
   ],
   "source": [
    "fig,ax =plt.subplots()\n",
    "ax.hist(df_IDF[\"delta en minutes\"], bins=40, label=\"distribution de la différence de saisie (Excense -Elec+) en mm\")\n",
    "ax.legend();\n"
   ]
  },
  {
   "cell_type": "code",
   "execution_count": null,
   "id": "cc3abd98",
   "metadata": {},
   "outputs": [],
   "source": []
  }
 ],
 "metadata": {
  "kernelspec": {
   "display_name": "Python 3 (ipykernel)",
   "language": "python",
   "name": "python3"
  },
  "language_info": {
   "codemirror_mode": {
    "name": "ipython",
    "version": 3
   },
   "file_extension": ".py",
   "mimetype": "text/x-python",
   "name": "python",
   "nbconvert_exporter": "python",
   "pygments_lexer": "ipython3",
   "version": "3.10.5"
  }
 },
 "nbformat": 4,
 "nbformat_minor": 5
}
